{
 "cells": [
  {
   "cell_type": "code",
   "execution_count": 34,
   "metadata": {},
   "outputs": [
    {
     "name": "stdout",
     "output_type": "stream",
     "text": [
      "Monthly Income = ₦ -82,000\n"
     ]
    }
   ],
   "source": [
    "nysc_allowee = 77_000\n",
    "ppa = 70_000\n",
    "monthly_allowance = 91_000\n",
    "expenses = -90_000\n",
    "k = -260_000\n",
    "aviator = 30_000\n",
    "dinaten = 700_000\n",
    "gigs = 100_000\n",
    "zent = 200_000\n",
    "\n",
    "income = (\n",
    "    aviator\n",
    "    + nysc_allowee\n",
    "    + ppa\n",
    "    + monthly_allowance\n",
    "    + expenses\n",
    "    + k\n",
    "    # + dinaten\n",
    "    # + gigs\n",
    "    # + zent\n",
    ")\n",
    "\n",
    "print(f\"Monthly Income = \\u20a6 {income:,}\")"
   ]
  },
  {
   "cell_type": "code",
   "execution_count": 98,
   "metadata": {},
   "outputs": [
    {
     "name": "stdout",
     "output_type": "stream",
     "text": [
      " 2,350,000\n",
      " 1,100,000\n",
      "\n",
      " 3,450,000\n",
      "\n",
      " 3,200,000\n",
      " 1,876,000\n"
     ]
    }
   ],
   "source": [
    "def money(v):\n",
    "    print(f\"{v: ,}\")\n",
    "\n",
    "\n",
    "remaining = 250_000\n",
    "june_upfront = 3_200_000\n",
    "june_interest = 200_000\n",
    "house_rent = 400_000\n",
    "\n",
    "amount_to_send = june_upfront - june_interest\n",
    "amount_to_send -= remaining\n",
    "amount_to_send -= house_rent\n",
    "\n",
    "\n",
    "money(amount_to_send)\n",
    "\n",
    "amount_to_send1 = 0\n",
    "arowolo = 500_000\n",
    "ige = 200_000\n",
    "amount_to_send1 += arowolo\n",
    "amount_to_send1 += ige\n",
    "amount_to_send1 += house_rent\n",
    "\n",
    "money(amount_to_send1)\n",
    "\n",
    "print()\n",
    "money(amount_to_send + amount_to_send1)\n",
    "print()\n",
    "\n",
    "money(june_interest + remaining + house_rent + amount_to_send)\n",
    "\n",
    "balance = 4_326_000 - amount_to_send - amount_to_send1\n",
    "balance += 1_000_000\n",
    "\n",
    "money(balance)"
   ]
  },
  {
   "cell_type": "code",
   "execution_count": 97,
   "metadata": {},
   "outputs": [
    {
     "name": "stdout",
     "output_type": "stream",
     "text": [
      " 150,000\n"
     ]
    }
   ],
   "source": [
    "money_owed_to_kenny = 5_000_000 + june_interest - june_upfront\n",
    "money_owed_to_kenny -= balance\n",
    "\n",
    "money(money_owed_to_kenny)"
   ]
  },
  {
   "cell_type": "code",
   "execution_count": 95,
   "metadata": {},
   "outputs": [
    {
     "name": "stdout",
     "output_type": "stream",
     "text": [
      " 1,300,000\n"
     ]
    }
   ],
   "source": [
    "money(5_200_000 - 3_900_000)"
   ]
  },
  {
   "cell_type": "code",
   "execution_count": 2,
   "metadata": {},
   "outputs": [
    {
     "data": {
      "text/plain": [
       "10000.0"
      ]
     },
     "execution_count": 2,
     "metadata": {},
     "output_type": "execute_result"
    }
   ],
   "source": [
    "1_000_000 * 1/100"
   ]
  }
 ],
 "metadata": {
  "kernelspec": {
   "display_name": "base",
   "language": "python",
   "name": "python3"
  },
  "language_info": {
   "codemirror_mode": {
    "name": "ipython",
    "version": 3
   },
   "file_extension": ".py",
   "mimetype": "text/x-python",
   "name": "python",
   "nbconvert_exporter": "python",
   "pygments_lexer": "ipython3",
   "version": "3.11.5"
  }
 },
 "nbformat": 4,
 "nbformat_minor": 2
}
