{
 "cells": [
  {
   "cell_type": "code",
   "execution_count": 34,
   "metadata": {},
   "outputs": [
    {
     "name": "stdout",
     "output_type": "stream",
     "text": [
      "Monthly Income = ₦ -82,000\n"
     ]
    }
   ],
   "source": [
    "nysc_allowee = 77_000\n",
    "ppa = 70_000\n",
    "monthly_allowance = 91_000\n",
    "expenses = -90_000\n",
    "k = -260_000\n",
    "aviator = 30_000\n",
    "dinaten = 700_000\n",
    "gigs = 100_000\n",
    "zent = 200_000\n",
    "\n",
    "income = (\n",
    "    aviator\n",
    "    + nysc_allowee\n",
    "    + ppa\n",
    "    + monthly_allowance\n",
    "    + expenses\n",
    "    + k\n",
    "    # + dinaten\n",
    "    # + gigs\n",
    "    # + zent\n",
    ")\n",
    "\n",
    "print(f\"Monthly Income = \\u20a6 {income:,}\")"
   ]
  },
  {
   "cell_type": "code",
   "execution_count": null,
   "metadata": {},
   "outputs": [],
   "source": []
  }
 ],
 "metadata": {
  "kernelspec": {
   "display_name": "base",
   "language": "python",
   "name": "python3"
  },
  "language_info": {
   "codemirror_mode": {
    "name": "ipython",
    "version": 3
   },
   "file_extension": ".py",
   "mimetype": "text/x-python",
   "name": "python",
   "nbconvert_exporter": "python",
   "pygments_lexer": "ipython3",
   "version": "3.11.5"
  }
 },
 "nbformat": 4,
 "nbformat_minor": 2
}
